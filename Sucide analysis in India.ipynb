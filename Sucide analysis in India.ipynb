{
 "cells": [
  {
   "cell_type": "code",
   "execution_count": 1,
   "id": "42f1763d",
   "metadata": {},
   "outputs": [],
   "source": [
    "import pandas as pd"
   ]
  },
  {
   "cell_type": "code",
   "execution_count": 7,
   "id": "2a235b2c",
   "metadata": {},
   "outputs": [
    {
     "name": "stdout",
     "output_type": "stream",
     "text": [
      "The size of the dataset:\n",
      " Rows:237519\tColumns:7\n"
     ]
    }
   ],
   "source": [
    "df = pd.read_csv(\"Suicides in India 2001-2012.csv\")\n",
    "\n",
    "#size of database\n",
    "print(f\"The size of the dataset:\\n Rows:{df.shape[0]}\\tColumns:{df.shape[1]}\")"
   ]
  },
  {
   "cell_type": "code",
   "execution_count": 8,
   "id": "561a07f8",
   "metadata": {},
   "outputs": [
    {
     "data": {
      "text/plain": [
       "State        0\n",
       "Year         0\n",
       "Type_code    0\n",
       "Type         0\n",
       "Gender       0\n",
       "Age_group    0\n",
       "Total        0\n",
       "dtype: int64"
      ]
     },
     "execution_count": 8,
     "metadata": {},
     "output_type": "execute_result"
    }
   ],
   "source": [
    "#checking for null values\n",
    "df.isnull().sum()"
   ]
  },
  {
   "cell_type": "code",
   "execution_count": 9,
   "id": "1fec0305",
   "metadata": {},
   "outputs": [
    {
     "data": {
      "text/plain": [
       "Index(['State', 'Year', 'Type_code', 'Type', 'Gender', 'Age_group', 'Total'], dtype='object')"
      ]
     },
     "execution_count": 9,
     "metadata": {},
     "output_type": "execute_result"
    }
   ],
   "source": [
    "#column list\n",
    "df.columns"
   ]
  },
  {
   "cell_type": "code",
   "execution_count": 11,
   "id": "f183a5d3",
   "metadata": {},
   "outputs": [
    {
     "data": {
      "text/plain": [
       "Madhya Pradesh       6792\n",
       "Maharashtra          6792\n",
       "Karnataka            6792\n",
       "Odisha               6791\n",
       "Andhra Pradesh       6791\n",
       "Rajasthan            6791\n",
       "Bihar                6790\n",
       "Chhattisgarh         6790\n",
       "Haryana              6790\n",
       "Kerala               6788\n",
       "Uttar Pradesh        6787\n",
       "Assam                6786\n",
       "Tamil Nadu           6786\n",
       "Gujarat              6786\n",
       "Jharkhand            6785\n",
       "Tripura              6782\n",
       "Delhi (Ut)           6782\n",
       "West Bengal          6780\n",
       "Punjab               6779\n",
       "Himachal Pradesh     6774\n",
       "Jammu & Kashmir      6761\n",
       "Goa                  6759\n",
       "Uttarakhand          6758\n",
       "Sikkim               6742\n",
       "Mizoram              6737\n",
       "Meghalaya            6733\n",
       "Puducherry           6730\n",
       "Chandigarh           6717\n",
       "A & N Islands        6712\n",
       "Daman & Diu          6710\n",
       "Arunachal Pradesh    6707\n",
       "Nagaland             6705\n",
       "D & N Haveli         6704\n",
       "Manipur              6700\n",
       "Lakshadweep          6674\n",
       "Total (All India)     312\n",
       "Total (States)        312\n",
       "Total (Uts)           312\n",
       "Name: State, dtype: int64"
      ]
     },
     "execution_count": 11,
     "metadata": {},
     "output_type": "execute_result"
    }
   ],
   "source": [
    "#records in each state\n",
    "df['State'].value_counts()"
   ]
  },
  {
   "cell_type": "code",
   "execution_count": 16,
   "id": "529b001e",
   "metadata": {},
   "outputs": [
    {
     "name": "stdout",
     "output_type": "stream",
     "text": [
      "Total cases from 2001-12: \n",
      " Year\n",
      "2001    108506\n",
      "2002    110417\n",
      "2003    110851\n",
      "2004    113697\n",
      "2005    113914\n",
      "2006    118112\n",
      "2007    122637\n",
      "2008    125017\n",
      "2009    127151\n",
      "2010    134599\n",
      "2011    135585\n",
      "2012    120488\n",
      "Name: Total, dtype: int64\n"
     ]
    }
   ],
   "source": [
    "#Total cases from 2001-12\n",
    "print(\"Total cases from 2001-12: \\n\",df_causes.groupby(\"Year\")[\"Total\"].sum())\n",
    "tot_suicide = df_causes.groupby(\"Year\")[\"Total\"]"
   ]
  },
  {
   "cell_type": "code",
   "execution_count": 18,
   "id": "d49b51f8",
   "metadata": {},
   "outputs": [
    {
     "data": {
      "text/html": [
       "<div>\n",
       "<style scoped>\n",
       "    .dataframe tbody tr th:only-of-type {\n",
       "        vertical-align: middle;\n",
       "    }\n",
       "\n",
       "    .dataframe tbody tr th {\n",
       "        vertical-align: top;\n",
       "    }\n",
       "\n",
       "    .dataframe thead th {\n",
       "        text-align: right;\n",
       "    }\n",
       "</style>\n",
       "<table border=\"1\" class=\"dataframe\">\n",
       "  <thead>\n",
       "    <tr style=\"text-align: right;\">\n",
       "      <th></th>\n",
       "      <th>State</th>\n",
       "      <th>Year</th>\n",
       "      <th>Type_code</th>\n",
       "      <th>Type</th>\n",
       "      <th>Gender</th>\n",
       "      <th>Age_group</th>\n",
       "      <th>Total</th>\n",
       "    </tr>\n",
       "  </thead>\n",
       "  <tbody>\n",
       "    <tr>\n",
       "      <th>1</th>\n",
       "      <td>A &amp; N Islands</td>\n",
       "      <td>2001</td>\n",
       "      <td>Causes</td>\n",
       "      <td>Bankruptcy or Sudden change in Economic</td>\n",
       "      <td>Female</td>\n",
       "      <td>0-14</td>\n",
       "      <td>0</td>\n",
       "    </tr>\n",
       "    <tr>\n",
       "      <th>48</th>\n",
       "      <td>A &amp; N Islands</td>\n",
       "      <td>2001</td>\n",
       "      <td>Causes</td>\n",
       "      <td>Bankruptcy or Sudden change in Economic</td>\n",
       "      <td>Male</td>\n",
       "      <td>0-14</td>\n",
       "      <td>0</td>\n",
       "    </tr>\n",
       "    <tr>\n",
       "      <th>56</th>\n",
       "      <td>A &amp; N Islands</td>\n",
       "      <td>2001</td>\n",
       "      <td>Causes</td>\n",
       "      <td>Bankruptcy or Sudden change in Economic</td>\n",
       "      <td>Female</td>\n",
       "      <td>15-29</td>\n",
       "      <td>0</td>\n",
       "    </tr>\n",
       "    <tr>\n",
       "      <th>84</th>\n",
       "      <td>A &amp; N Islands</td>\n",
       "      <td>2001</td>\n",
       "      <td>Causes</td>\n",
       "      <td>Bankruptcy or Sudden change in Economic</td>\n",
       "      <td>Male</td>\n",
       "      <td>15-29</td>\n",
       "      <td>0</td>\n",
       "    </tr>\n",
       "    <tr>\n",
       "      <th>118</th>\n",
       "      <td>A &amp; N Islands</td>\n",
       "      <td>2001</td>\n",
       "      <td>Causes</td>\n",
       "      <td>Bankruptcy or Sudden change in Economic</td>\n",
       "      <td>Female</td>\n",
       "      <td>30-44</td>\n",
       "      <td>0</td>\n",
       "    </tr>\n",
       "  </tbody>\n",
       "</table>\n",
       "</div>"
      ],
      "text/plain": [
       "             State  Year Type_code                                     Type  \\\n",
       "1    A & N Islands  2001    Causes  Bankruptcy or Sudden change in Economic   \n",
       "48   A & N Islands  2001    Causes  Bankruptcy or Sudden change in Economic   \n",
       "56   A & N Islands  2001    Causes  Bankruptcy or Sudden change in Economic   \n",
       "84   A & N Islands  2001    Causes  Bankruptcy or Sudden change in Economic   \n",
       "118  A & N Islands  2001    Causes  Bankruptcy or Sudden change in Economic   \n",
       "\n",
       "     Gender Age_group  Total  \n",
       "1    Female      0-14      0  \n",
       "48     Male      0-14      0  \n",
       "56   Female     15-29      0  \n",
       "84     Male     15-29      0  \n",
       "118  Female     30-44      0  "
      ]
     },
     "execution_count": 18,
     "metadata": {},
     "output_type": "execute_result"
    }
   ],
   "source": [
    "#head state where people did sucide due to Bankruptcy or Sudden change in Economic\n",
    "df_causes_bank = df_causes[df_causes.Type=='Bankruptcy or Sudden change in Economic']\n",
    "df_causes_bank.head()"
   ]
  },
  {
   "cell_type": "code",
   "execution_count": null,
   "id": "d886e34b",
   "metadata": {},
   "outputs": [],
   "source": []
  }
 ],
 "metadata": {
  "kernelspec": {
   "display_name": "Python 3 (ipykernel)",
   "language": "python",
   "name": "python3"
  },
  "language_info": {
   "codemirror_mode": {
    "name": "ipython",
    "version": 3
   },
   "file_extension": ".py",
   "mimetype": "text/x-python",
   "name": "python",
   "nbconvert_exporter": "python",
   "pygments_lexer": "ipython3",
   "version": "3.11.4"
  }
 },
 "nbformat": 4,
 "nbformat_minor": 5
}
